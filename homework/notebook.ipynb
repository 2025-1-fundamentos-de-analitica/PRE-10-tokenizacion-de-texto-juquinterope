{
 "cells": [
  {
   "cell_type": "code",
   "execution_count": 11,
   "id": "8880d067",
   "metadata": {},
   "outputs": [
    {
     "name": "stdout",
     "output_type": "stream",
     "text": [
      "Input directory: c:\\Users\\juanf\\Desktop\\Fund. Analitica\\PRE-10-tokenizacion-de-texto-juquinterope\\files\\input\n",
      "Output directory: c:\\Users\\juanf\\Desktop\\Fund. Analitica\\PRE-10-tokenizacion-de-texto-juquinterope\\files\\output\n",
      "Created: c:\\Users\\juanf\\Desktop\\Fund. Analitica\\PRE-10-tokenizacion-de-texto-juquinterope\\files\\input\\file1.txt\n",
      "Created: c:\\Users\\juanf\\Desktop\\Fund. Analitica\\PRE-10-tokenizacion-de-texto-juquinterope\\files\\input\\file2.txt\n",
      "Created: c:\\Users\\juanf\\Desktop\\Fund. Analitica\\PRE-10-tokenizacion-de-texto-juquinterope\\files\\input\\file3.txt\n"
     ]
    }
   ],
   "source": [
    "# Configuración inicial\n",
    "import os\n",
    "\n",
    "# Obtener la ruta base del proyecto\n",
    "current_dir = os.path.dirname(os.path.abspath(\"__file__\"))\n",
    "base_dir = os.path.dirname(current_dir)\n",
    "\n",
    "# Definir rutas absolutas para input y output\n",
    "input_dir = os.path.join(base_dir, \"files\", \"input\")\n",
    "output_dir = os.path.join(base_dir, \"files\", \"output\")\n",
    "\n",
    "# Crear directorios si no existen\n",
    "os.makedirs(input_dir, exist_ok=True)\n",
    "os.makedirs(output_dir, exist_ok=True)\n",
    "\n",
    "print(f\"Input directory: {input_dir}\")\n",
    "print(f\"Output directory: {output_dir}\")\n",
    "\n",
    "# Crear archivos de ejemplo\n",
    "example_texts = [\n",
    "    \"Este es el contenido de ejemplo del archivo 1\",\n",
    "    \"Este es el contenido de ejemplo del archivo 2\",\n",
    "    \"Este es el contenido de ejemplo del archivo 3\"\n",
    "]\n",
    "\n",
    "for i, text in enumerate(example_texts, 1):\n",
    "    file_path = os.path.join(input_dir, f\"file{i}.txt\")\n",
    "    with open(file_path, \"w\", encoding=\"utf-8\") as f:\n",
    "        f.write(text)\n",
    "    print(f\"Created: {file_path}\")"
   ]
  },
  {
   "cell_type": "code",
   "execution_count": 12,
   "id": "f0e72aa5",
   "metadata": {},
   "outputs": [
    {
     "name": "stdout",
     "output_type": "stream",
     "text": [
      "c:\\Users\\juanf\\Desktop\\Fund. Analitica\\PRE-10-tokenizacion-de-texto-juquinterope\\files\\input\\file1.txt  Este es el contenido de ejemplo del archivo 1\n",
      "c:\\Users\\juanf\\Desktop\\Fund. Analitica\\PRE-10-tokenizacion-de-texto-juquinterope\\files\\input\\file2.txt  Este es el contenido de ejemplo del archivo 2\n",
      "c:\\Users\\juanf\\Desktop\\Fund. Analitica\\PRE-10-tokenizacion-de-texto-juquinterope\\files\\input\\file3.txt  Este es el contenido de ejemplo del archivo 3\n"
     ]
    }
   ],
   "source": [
    "# Carga de datos\n",
    "import glob\n",
    "\n",
    "\n",
    "def load_data(input_directory):\n",
    "\n",
    "    sequence = []\n",
    "    files = glob.glob(f\"{input_directory}/*\")\n",
    "    for file in files:\n",
    "        with open(file, \"rt\", encoding=\"utf-8\") as f:\n",
    "            raw_text = f.read()\n",
    "            sequence.append((file, raw_text))\n",
    "    return sequence\n",
    "\n",
    "\n",
    "sequence = load_data(input_directory=input_dir)  # Usar la variable input_dir\n",
    "for file, text in sequence:\n",
    "    print(f\"{file}  {text[:75]}\")"
   ]
  },
  {
   "cell_type": "code",
   "execution_count": 13,
   "id": "9591ec67",
   "metadata": {},
   "outputs": [
    {
     "name": "stdout",
     "output_type": "stream",
     "text": [
      "c:\\Users\\juanf\\Desktop\\Fund. Analitica\\PRE-10-tokenizacion-de-texto-juquinterope\\files\\input\\file1.txt  este es el contenido de ejemplo del archivo 1\n",
      "c:\\Users\\juanf\\Desktop\\Fund. Analitica\\PRE-10-tokenizacion-de-texto-juquinterope\\files\\input\\file2.txt  este es el contenido de ejemplo del archivo 2\n",
      "c:\\Users\\juanf\\Desktop\\Fund. Analitica\\PRE-10-tokenizacion-de-texto-juquinterope\\files\\input\\file3.txt  este es el contenido de ejemplo del archivo 3\n"
     ]
    }
   ],
   "source": [
    "# Clean text\n",
    "import re\n",
    "\n",
    "\n",
    "def clean_text(sequence):\n",
    "    cleaned_sequence = []\n",
    "    for file, text in sequence:\n",
    "        cleaned_text = re.sub(r\"\\n\", \" \", text)\n",
    "        cleaned_text = re.sub(r\"\\s+\", \" \", cleaned_text)\n",
    "        cleaned_text = cleaned_text.strip()\n",
    "        cleaned_text = cleaned_text.lower()\n",
    "        cleaned_sequence.append((file, cleaned_text))\n",
    "    return cleaned_sequence\n",
    "\n",
    "\n",
    "sequence = load_data(input_directory=input_dir)  # Usar la variable input_dir\n",
    "cleaned_sequence = clean_text(sequence)\n",
    "for file, text in cleaned_sequence:\n",
    "    print(f\"{file}  {text[:70]}\")"
   ]
  },
  {
   "cell_type": "code",
   "execution_count": 14,
   "id": "29f1a831",
   "metadata": {},
   "outputs": [
    {
     "name": "stdout",
     "output_type": "stream",
     "text": [
      "c:\\Users\\juanf\\Desktop\\Fund. Analitica\\PRE-10-tokenizacion-de-texto-juquinterope\\files\\input\\file1.txt  este es el contenido de ejemplo del archivo 1\n",
      "c:\\Users\\juanf\\Desktop\\Fund. Analitica\\PRE-10-tokenizacion-de-texto-juquinterope\\files\\input\\file2.txt  este es el contenido de ejemplo del archivo 2\n",
      "c:\\Users\\juanf\\Desktop\\Fund. Analitica\\PRE-10-tokenizacion-de-texto-juquinterope\\files\\input\\file3.txt  este es el contenido de ejemplo del archivo 3\n"
     ]
    }
   ],
   "source": [
    "\n",
    "# %%\n",
    "# Tokenization\n",
    "# Tokenization\n",
    "import nltk\n",
    "from nltk.tokenize import word_tokenize\n",
    "\n",
    "# nltk.download(\"punkt_tab\")\n",
    "\n",
    "\n",
    "def tokenize(sequence):\n",
    "    tokenized_sequence = []\n",
    "    for file, text in sequence:\n",
    "        tokens = word_tokenize(text)\n",
    "        tokenized_sequence.append((file, tokens))\n",
    "    return tokenized_sequence\n",
    "\n",
    "\n",
    "sequence = load_data(input_directory=input_dir)  # Usar la variable input_dir\n",
    "cleaned_sequence = clean_text(sequence)\n",
    "tokenized_sequence = tokenize(cleaned_sequence)\n",
    "for file, text in tokenized_sequence:\n",
    "    print(f\"{file}  {' '.join(text)[:70]}\")\n",
    "    \n",
    "    "
   ]
  },
  {
   "cell_type": "code",
   "execution_count": 15,
   "id": "338179de",
   "metadata": {},
   "outputs": [
    {
     "name": "stdout",
     "output_type": "stream",
     "text": [
      "c:\\Users\\juanf\\Desktop\\Fund. Analitica\\PRE-10-tokenizacion-de-texto-juquinterope\\files\\input\\file1.txt  este es el contenido de ejemplo del archivo\n",
      "c:\\Users\\juanf\\Desktop\\Fund. Analitica\\PRE-10-tokenizacion-de-texto-juquinterope\\files\\input\\file2.txt  este es el contenido de ejemplo del archivo\n",
      "c:\\Users\\juanf\\Desktop\\Fund. Analitica\\PRE-10-tokenizacion-de-texto-juquinterope\\files\\input\\file3.txt  este es el contenido de ejemplo del archivo\n",
      "c:\\Users\\juanf\\Desktop\\Fund. Analitica\\PRE-10-tokenizacion-de-texto-juquinterope\\files\\input\\file1.txt  este es el contenido de ejemplo del archivo\n",
      "c:\\Users\\juanf\\Desktop\\Fund. Analitica\\PRE-10-tokenizacion-de-texto-juquinterope\\files\\input\\file2.txt  este es el contenido de ejemplo del archivo\n",
      "c:\\Users\\juanf\\Desktop\\Fund. Analitica\\PRE-10-tokenizacion-de-texto-juquinterope\\files\\input\\file3.txt  este es el contenido de ejemplo del archivo\n"
     ]
    }
   ],
   "source": [
    "\n",
    "# %%\n",
    "# Remoción de datos ruidosos (Opcion A)\n",
    "def filter_tokens_a(sequence):\n",
    "    \"\"\"Esta solucion puede perder tokens que contienen caracteres no alfabeticos\"\"\"\n",
    "    filtered_sequence = []\n",
    "    for file, tokens in sequence:\n",
    "        filtered_tokens = [token for token in tokens if token.isalpha()]\n",
    "        filtered_sequence.append((file, filtered_tokens))\n",
    "    return filtered_sequence\n",
    "\n",
    "\n",
    "sequence = load_data(input_directory=input_dir)  # Usar la variable input_dir\n",
    "cleaned_sequence = clean_text(sequence)\n",
    "tokenized_sequence = tokenize(cleaned_sequence)\n",
    "filtered_sequence = filter_tokens_a(tokenized_sequence)\n",
    "for file, text in filtered_sequence:\n",
    "    print(f\"{file}  {' '.join(text)[:70]}\")\n",
    "    \n",
    "    \n",
    "    \n",
    "    \n",
    "# %%\n",
    "# Remoción de datos ruidosos (Opcion B)\n",
    "def filter_tokens_b(sequence):\n",
    "    \"\"\"Esta solucion puede perder tokens que contienen caracteres no alfabeticos\"\"\"\n",
    "    filtered_sequence = []\n",
    "    for file, tokens in sequence:\n",
    "        filtered_tokens = [re.sub(r\"[^a-zA-Z\\s]\", \" \", token) for token in tokens]\n",
    "        filtered_tokens = [re.sub(r\"\\s+\", \" \", token) for token in filtered_tokens]\n",
    "        filtered_tokens = [token.strip() for token in filtered_tokens]\n",
    "        filtered_tokens = [token for token in filtered_tokens if token != \"\"]\n",
    "        filtered_sequence.append((file, filtered_tokens))\n",
    "    return filtered_sequence\n",
    "\n",
    "\n",
    "sequence = load_data(input_directory=input_dir)  # Usar la variable input_dir\n",
    "cleaned_sequence = clean_text(sequence)\n",
    "tokenized_sequence = tokenize(cleaned_sequence)\n",
    "filtered_sequence = filter_tokens_b(tokenized_sequence)\n",
    "for file, text in filtered_sequence:\n",
    "    print(f\"{file}  {' '.join(text)[:70]}\")\n",
    "\n",
    "\n",
    "\n",
    "    # %%"
   ]
  },
  {
   "cell_type": "code",
   "execution_count": 16,
   "id": "a7d284ed",
   "metadata": {},
   "outputs": [
    {
     "name": "stdout",
     "output_type": "stream",
     "text": [
      "c:\\Users\\juanf\\Desktop\\Fund. Analitica\\PRE-10-tokenizacion-de-texto-juquinterope\\files\\input\\file1.txt  este es el contenido de ejemplo del archivo\n",
      "c:\\Users\\juanf\\Desktop\\Fund. Analitica\\PRE-10-tokenizacion-de-texto-juquinterope\\files\\input\\file2.txt  este es el contenido de ejemplo del archivo\n",
      "c:\\Users\\juanf\\Desktop\\Fund. Analitica\\PRE-10-tokenizacion-de-texto-juquinterope\\files\\input\\file3.txt  este es el contenido de ejemplo del archivo\n",
      "\n",
      "c:\\Users\\juanf\\Desktop\\Fund. Analitica\\PRE-10-tokenizacion-de-texto-juquinterope\\files\\input\\file2.txt  este es el contenido de ejemplo del archivo\n",
      "c:\\Users\\juanf\\Desktop\\Fund. Analitica\\PRE-10-tokenizacion-de-texto-juquinterope\\files\\input\\file3.txt  este es el contenido de ejemplo del archivo\n"
     ]
    },
    {
     "name": "stderr",
     "output_type": "stream",
     "text": [
      "[nltk_data] Downloading package stopwords to\n",
      "[nltk_data]     C:\\Users\\juanf\\AppData\\Roaming\\nltk_data...\n",
      "[nltk_data]   Package stopwords is already up-to-date!\n",
      "[nltk_data] Downloading package stopwords to\n",
      "[nltk_data]     C:\\Users\\juanf\\AppData\\Roaming\\nltk_data...\n",
      "[nltk_data]   Package stopwords is already up-to-date!\n",
      "[nltk_data] Downloading package stopwords to\n",
      "[nltk_data]     C:\\Users\\juanf\\AppData\\Roaming\\nltk_data...\n",
      "[nltk_data]   Package stopwords is already up-to-date!\n",
      "[nltk_data] Downloading package stopwords to\n",
      "[nltk_data]     C:\\Users\\juanf\\AppData\\Roaming\\nltk_data...\n",
      "[nltk_data]   Package stopwords is already up-to-date!\n"
     ]
    }
   ],
   "source": [
    "\n",
    "# Remove the stopwords\n",
    "nltk.download(\"stopwords\")\n",
    "\n",
    "\n",
    "def remove_stopwords(sequence):\n",
    "    stop_words = set(nltk.corpus.stopwords.words(\"english\"))\n",
    "    filtered_sequence = []\n",
    "    for file, tokens in sequence:\n",
    "        filtered_tokens = [token for token in tokens if token not in stop_words]\n",
    "        filtered_sequence.append((file, filtered_tokens))\n",
    "    return filtered_sequence\n",
    "\n",
    "\n",
    "sequence = load_data(input_directory=input_dir)  # Usar la variable input_dir\n",
    "cleaned_sequence = clean_text(sequence)\n",
    "tokenized_sequence = tokenize(cleaned_sequence)\n",
    "filtered_sequence = filter_tokens_b(tokenized_sequence)\n",
    "filtered_sequence = remove_stopwords(filtered_sequence)\n",
    "for file, text in filtered_sequence:\n",
    "    print(f\"{file}  {' '.join(text)[:70]}\")\n",
    "    nltk.download(\"stopwords\")\n"
   ]
  },
  {
   "cell_type": "code",
   "execution_count": 17,
   "id": "a1fe1bf3",
   "metadata": {},
   "outputs": [
    {
     "name": "stdout",
     "output_type": "stream",
     "text": [
      "Archivo file1.txt creado correctamente en c:\\Users\\juanf\\Desktop\\Fund. Analitica\\PRE-10-tokenizacion-de-texto-juquinterope\\files\\output\\file1.txt\n",
      "Archivo file2.txt creado correctamente en c:\\Users\\juanf\\Desktop\\Fund. Analitica\\PRE-10-tokenizacion-de-texto-juquinterope\\files\\output\\file2.txt\n",
      "Archivo file3.txt creado correctamente en c:\\Users\\juanf\\Desktop\\Fund. Analitica\\PRE-10-tokenizacion-de-texto-juquinterope\\files\\output\\file3.txt\n"
     ]
    }
   ],
   "source": [
    "# Save to disk\n",
    "import os\n",
    "import textwrap\n",
    "\n",
    "\n",
    "def save_data(output_directory, sequence):\n",
    "    if not os.path.exists(output_directory):\n",
    "        os.makedirs(output_directory)\n",
    "\n",
    "    for file, tokens in sequence:\n",
    "        # Extraer solo el nombre del archivo\n",
    "        filename = os.path.basename(file)\n",
    "        output_path = os.path.join(output_directory, filename)\n",
    "        \n",
    "        with open(output_path, \"wt\", encoding=\"utf-8\") as f:\n",
    "            f.write(textwrap.fill(\" \".join(tokens), width=50))\n",
    "\n",
    "\n",
    "sequence = load_data(input_directory=input_dir)\n",
    "cleaned_sequence = clean_text(sequence)\n",
    "tokenized_sequence = tokenize(cleaned_sequence)\n",
    "filtered_sequence = filter_tokens_b(tokenized_sequence)\n",
    "filtered_sequence = remove_stopwords(filtered_sequence)\n",
    "save_data(output_directory=output_dir, sequence=filtered_sequence)\n",
    "\n",
    "# Verificar la creación de archivos\n",
    "for i in range(1, 4):\n",
    "    filename = f\"file{i}.txt\"\n",
    "    filepath = os.path.join(output_dir, filename)\n",
    "    if os.path.exists(filepath):\n",
    "        print(f\"Archivo {filename} creado correctamente en {filepath}\")\n",
    "    else:\n",
    "        print(f\"Error: No se pudo crear {filename}\")"
   ]
  }
 ],
 "metadata": {
  "kernelspec": {
   "display_name": ".venv",
   "language": "python",
   "name": "python3"
  },
  "language_info": {
   "codemirror_mode": {
    "name": "ipython",
    "version": 3
   },
   "file_extension": ".py",
   "mimetype": "text/x-python",
   "name": "python",
   "nbconvert_exporter": "python",
   "pygments_lexer": "ipython3",
   "version": "3.11.4"
  }
 },
 "nbformat": 4,
 "nbformat_minor": 5
}
